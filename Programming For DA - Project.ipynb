{
 "cells": [
  {
   "cell_type": "markdown",
   "metadata": {},
   "source": [
    "# Programming For Data Analytics Project\n",
    "\n",
    "\n",
    "### PROBLEM STATEMENT\n",
    "\n",
    "Pharmaceutical Company ‘Ollopa Pharmaceutical’ manufactures the active ingredient for its small molecule blockbuster drug ‘Asclepius’ by organic synthesis in a processing plant. The Manufacturing Science Group have been asked to optimise the production process to increase the yield of the active ingredient. The theoretical yield is between 28 and 32Kg per batch based on standard inputs and management would like to see yields increased to approach the max theoretical yield of 32Kgs. The Manufacturing Science Group have identified 4 Process Variables which they would like to investigate to see if there is any correlation between them and the yield.\n",
    "\n",
    "### 1.\tCREATE THE VARIABLES\n",
    "\n",
    "**Critical Quality Attributes, (CQA's)**\n",
    "\n",
    "|Yield    | Max Reaction Temp |Pre-Crystallisation pH|Crystallisation Hold Time|Solvent Exchange IPC Result|\n",
    "|:-------:|:-----------------:|:--------------------:|:-----------------------:|:-------------------------:|\n",
    "| 28-32Kg | 15-25$^o$C | pH = 6.5-7.5 | 3.5-4Hrs| 0-0.5% |\n",
    "\n",
    "The Critical Quality Attributes are the parameters, defined by quality and agreed with the regulatory authorities, which must be adhered to in order for the active ingredient to meet predefined quality standards. A manufacturing process which deviates from these CQA's could potentially be scrapped or re-worked. Such events are outside the scope of this study so the dataset investigated in this study will be within the parameters of the above CQA's\n",
    "\n",
    "For the purposes of creating a dataset we will investigate 100 data points of each CQA (or variable) i.e. 100 batches will be studied each of which will have data for each variable.\n",
    "\n",
    "The effect or contribution (if any) of these variables to the batch yield will be investigated.\n",
    "\n",
    "\n"
   ]
  },
  {
   "cell_type": "code",
   "execution_count": 36,
   "metadata": {},
   "outputs": [],
   "source": [
    "import numpy as np\n",
    "import pandas as pd\n",
    "import matplotlib.pyplot as plt\n",
    "\n",
    "#number of observations\n",
    "\n",
    "size = 100 \n",
    "\n",
    "#List of variables\n",
    "\n",
    "Max_Rxn_Temp= np.round(np.random.normal(loc=20, scale=0.25, size=size),2)\n",
    "\n",
    "pH = np.round(np.random.normal(loc=7.0, scale=0.25, size=size),2)\n",
    "\n",
    "HoldTime = np.round(np.random.normal(loc=2, scale=0.25, size=size),2)\n",
    "\n",
    "IPC = np.round(np.random.normal(loc=0.25, scale=0.025, size=size),2)\n",
    "\n"
   ]
  },
  {
   "cell_type": "code",
   "execution_count": 37,
   "metadata": {},
   "outputs": [
    {
     "name": "stdout",
     "output_type": "stream",
     "text": [
      "pH = [6.75 7.09 7.06 7.17 6.6  7.31 6.77 6.9  7.13 6.76 6.97 6.61 7.23 7.1\n",
      " 6.9  6.99 7.02 6.87 6.81 6.87 6.95 6.91 6.75 7.01 6.96 7.27 6.7  7.13\n",
      " 6.89 6.38 6.84 7.45 7.23 6.9  7.14 7.19 6.99 6.77 7.17 7.08 7.11 7.03\n",
      " 6.66 7.42 7.26 6.77 7.31 6.96 7.33 7.19 7.43 6.92 7.35 7.08 6.56 6.98\n",
      " 7.   6.84 7.22 6.86 7.21 6.61 6.72 6.73 6.76 6.98 7.12 7.64 6.85 7.14\n",
      " 6.66 7.02 6.63 7.03 7.14 6.92 6.64 6.65 7.16 6.51 7.25 6.64 7.21 6.54\n",
      " 6.74 6.87 7.21 6.93 7.19 6.91 7.6  7.82 7.31 7.23 6.79 6.59 6.86 6.62\n",
      " 7.1  6.93]\n"
     ]
    },
    {
     "data": {
      "text/plain": [
       "(None,\n",
       " ('Maximum Reaction Temp = ',\n",
       "  array([19.94, 19.97, 19.97, 19.69, 20.5 , 20.16, 20.32, 19.65, 19.76,\n",
       "         20.61, 19.88, 20.27, 20.28, 19.74, 19.78, 20.08, 20.09, 19.6 ,\n",
       "         19.92, 20.23, 20.  , 19.87, 19.66, 19.86, 20.2 , 19.87, 20.21,\n",
       "         20.3 , 19.98, 20.25, 19.79, 19.67, 20.06, 20.25, 20.42, 19.76,\n",
       "         19.55, 19.85, 19.88, 19.92, 20.19, 20.21, 20.07, 19.89, 19.87,\n",
       "         19.7 , 19.79, 20.39, 19.44, 20.39, 19.95, 20.16, 19.87, 20.27,\n",
       "         19.91, 20.08, 19.68, 20.49, 19.59, 20.04, 20.15, 20.06, 19.98,\n",
       "         20.09, 20.15, 20.24, 19.77, 19.47, 19.94, 20.35, 20.14, 19.79,\n",
       "         20.2 , 20.25, 20.43, 19.86, 20.23, 19.88, 20.03, 19.91, 19.96,\n",
       "         20.05, 20.04, 19.88, 19.92, 19.37, 20.13, 20.33, 19.79, 20.3 ,\n",
       "         20.07, 20.67, 20.02, 20.01, 19.57, 19.56, 19.31, 19.56, 20.26,\n",
       "         20.04])),\n",
       " ('Hold Time =',\n",
       "  array([1.95, 1.48, 1.86, 2.06, 1.74, 1.73, 2.31, 1.81, 1.73, 2.03, 1.75,\n",
       "         1.84, 2.21, 2.1 , 2.21, 1.81, 2.  , 1.93, 2.11, 1.83, 1.76, 1.55,\n",
       "         1.48, 2.06, 1.62, 2.25, 1.57, 2.03, 2.21, 1.95, 1.6 , 2.12, 1.93,\n",
       "         2.59, 1.71, 2.21, 2.29, 2.05, 2.32, 2.07, 2.14, 1.84, 2.14, 2.  ,\n",
       "         2.17, 2.08, 2.09, 2.14, 2.26, 2.25, 1.47, 1.52, 2.25, 2.3 , 2.15,\n",
       "         2.12, 2.12, 2.75, 1.7 , 2.27, 2.42, 2.14, 2.51, 1.68, 2.03, 1.98,\n",
       "         1.87, 1.94, 1.88, 1.71, 2.18, 2.42, 1.79, 2.1 , 1.82, 1.77, 2.01,\n",
       "         1.9 , 1.92, 2.18, 2.22, 1.7 , 1.71, 1.95, 1.84, 2.26, 2.25, 1.94,\n",
       "         1.92, 1.79, 2.16, 2.02, 1.85, 1.65, 1.93, 2.19, 2.13, 1.93, 2.48,\n",
       "         1.88])),\n",
       " ('IPC Result % =',\n",
       "  array([0.27, 0.28, 0.27, 0.23, 0.27, 0.21, 0.26, 0.22, 0.24, 0.27, 0.25,\n",
       "         0.24, 0.26, 0.28, 0.24, 0.25, 0.27, 0.24, 0.26, 0.21, 0.26, 0.27,\n",
       "         0.24, 0.22, 0.26, 0.19, 0.26, 0.24, 0.24, 0.28, 0.29, 0.25, 0.27,\n",
       "         0.3 , 0.21, 0.2 , 0.25, 0.24, 0.28, 0.3 , 0.23, 0.3 , 0.24, 0.22,\n",
       "         0.26, 0.24, 0.23, 0.22, 0.24, 0.24, 0.23, 0.24, 0.26, 0.25, 0.25,\n",
       "         0.26, 0.25, 0.25, 0.25, 0.26, 0.29, 0.24, 0.23, 0.27, 0.22, 0.32,\n",
       "         0.23, 0.2 , 0.23, 0.21, 0.22, 0.26, 0.21, 0.24, 0.25, 0.26, 0.26,\n",
       "         0.27, 0.27, 0.25, 0.26, 0.25, 0.28, 0.25, 0.27, 0.28, 0.24, 0.28,\n",
       "         0.23, 0.24, 0.26, 0.29, 0.27, 0.19, 0.25, 0.29, 0.25, 0.28, 0.29,\n",
       "         0.27])))"
      ]
     },
     "execution_count": 37,
     "metadata": {},
     "output_type": "execute_result"
    }
   ],
   "source": [
    "\n",
    "print(('pH ='), pH), ('Maximum Reaction Temp = ', Max_Rxn_Temp), ('Hold Time =', HoldTime), ('IPC Result % =', IPC)"
   ]
  }
 ],
 "metadata": {
  "kernelspec": {
   "display_name": "Python 3",
   "language": "python",
   "name": "python3"
  },
  "language_info": {
   "codemirror_mode": {
    "name": "ipython",
    "version": 3
   },
   "file_extension": ".py",
   "mimetype": "text/x-python",
   "name": "python",
   "nbconvert_exporter": "python",
   "pygments_lexer": "ipython3",
   "version": "3.6.6"
  }
 },
 "nbformat": 4,
 "nbformat_minor": 2
}
